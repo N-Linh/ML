{
  "nbformat": 4,
  "nbformat_minor": 0,
  "metadata": {
    "colab": {
      "name": "polinomial_regression.ipynb",
      "provenance": [],
      "collapsed_sections": [],
      "authorship_tag": "ABX9TyM+sP70OnCO6ehj89KxKJnV",
      "include_colab_link": true
    },
    "kernelspec": {
      "name": "python3",
      "display_name": "Python 3"
    },
    "language_info": {
      "name": "python"
    }
  },
  "cells": [
    {
      "cell_type": "markdown",
      "metadata": {
        "id": "view-in-github",
        "colab_type": "text"
      },
      "source": [
        "<a href=\"https://colab.research.google.com/github/N-Linh/ML/blob/main/polinomial_regression.ipynb\" target=\"_parent\"><img src=\"https://colab.research.google.com/assets/colab-badge.svg\" alt=\"Open In Colab\"/></a>"
      ]
    },
    {
      "cell_type": "code",
      "execution_count": 1,
      "metadata": {
        "id": "hG2xq8x-8CRX"
      },
      "outputs": [],
      "source": [
        "import numpy as np\n",
        "import pandas as pd\n",
        "import matplotlib.pyplot as plt"
      ]
    },
    {
      "cell_type": "code",
      "source": [
        "X = 1 + 8*np.random.rand(100, 1)\n",
        "y = 0.25*(X**2) - 2*X + 6 + np.random.randn(100, 1)"
      ],
      "metadata": {
        "id": "8Uu_FejK8VSQ"
      },
      "execution_count": 26,
      "outputs": []
    },
    {
      "cell_type": "code",
      "source": [
        "plt.plot(X, y, \"b.\")\n",
        "plt.xlabel(\"$x$\")\n",
        "plt.ylabel(\"$y$\", rotation=0)"
      ],
      "metadata": {
        "colab": {
          "base_uri": "https://localhost:8080/",
          "height": 299
        },
        "id": "A7mRZMoC8ibW",
        "outputId": "cef60a16-0160-483d-812d-d0d2510d3ed5"
      },
      "execution_count": 28,
      "outputs": [
        {
          "output_type": "execute_result",
          "data": {
            "text/plain": [
              "Text(0, 0.5, '$y$')"
            ]
          },
          "metadata": {},
          "execution_count": 28
        },
        {
          "output_type": "display_data",
          "data": {
            "image/png": "[encoded data removed]",
            "text/plain": [
              "<Figure size 432x288 with 1 Axes>"
            ]
          },
          "metadata": {
            "needs_background": "light"
          }
        }
      ]
    },
    {
      "cell_type": "markdown",
      "source": [
        "guess degree = 2"
      ],
      "metadata": {
        "id": "MythtQdlEVlF"
      }
    },
    {
      "cell_type": "code",
      "source": [
        "X_ones = np.ones((100, 1))\n",
        "X_squares = X**2\n",
        "X_com = np.c_[X_ones, X_squares, X]\n",
        "X_com[0], X_com.shape"
      ],
      "metadata": {
        "colab": {
          "base_uri": "https://localhost:8080/"
        },
        "id": "LoEeo1tA-ehu",
        "outputId": "4311b516-13a8-41bf-b889-977f324dc1de"
      },
      "execution_count": 33,
      "outputs": [
        {
          "output_type": "execute_result",
          "data": {
            "text/plain": [
              "(array([ 1.        , 64.57914346,  8.03611495]), (100, 3))"
            ]
          },
          "metadata": {},
          "execution_count": 33
        }
      ]
    },
    {
      "cell_type": "code",
      "source": [
        "X_pred = 9*np.random.rand(100, 1)\n",
        "X_pred.shape"
      ],
      "metadata": {
        "colab": {
          "base_uri": "https://localhost:8080/"
        },
        "id": "UMaEmb3lAMeD",
        "outputId": "4e7a82a7-f492-4557-a667-c4dbcc4ed23e"
      },
      "execution_count": 36,
      "outputs": [
        {
          "output_type": "execute_result",
          "data": {
            "text/plain": [
              "(100, 1)"
            ]
          },
          "metadata": {},
          "execution_count": 36
        }
      ]
    },
    {
      "cell_type": "markdown",
      "source": [
        "using normal equation"
      ],
      "metadata": {
        "id": "08Vs45EaEKKA"
      }
    },
    {
      "cell_type": "code",
      "source": [
        "theta = np.dot(np.linalg.pinv(np.dot(X_com.T, X_com)), np.dot(X_com.T, y))\n",
        "theta, theta.shape"
      ],
      "metadata": {
        "colab": {
          "base_uri": "https://localhost:8080/"
        },
        "id": "bFE5suL5DTVV",
        "outputId": "107bfc0f-f8f6-42ee-d46d-f692f52618e1"
      },
      "execution_count": 49,
      "outputs": [
        {
          "output_type": "execute_result",
          "data": {
            "text/plain": [
              "(array([[ 6.26591056],\n",
              "        [ 0.26232725],\n",
              "        [-2.14024063]]), (3, 1))"
            ]
          },
          "metadata": {},
          "execution_count": 49
        }
      ]
    },
    {
      "cell_type": "markdown",
      "source": [
        "using sklearn"
      ],
      "metadata": {
        "id": "njhzcMWXGnwg"
      }
    },
    {
      "cell_type": "code",
      "source": [
        "from sklearn.preprocessing import PolynomialFeatures\n",
        "poly_features = PolynomialFeatures(degree=2, include_bias=False)\n",
        "X_poly = poly_features.fit_transform(X)\n"
      ],
      "metadata": {
        "id": "Woy1Lnq1GYvM"
      },
      "execution_count": 55,
      "outputs": []
    },
    {
      "cell_type": "code",
      "source": [
        "from sklearn.linear_model import LinearRegression\n",
        "lin_reg = LinearRegression()\n",
        "lin_reg.fit(X_poly, y)\n",
        "lin_reg.intercept_, lin_reg.coef_\n"
      ],
      "metadata": {
        "colab": {
          "base_uri": "https://localhost:8080/"
        },
        "id": "xhspT_VwGzOy",
        "outputId": "ccf5f197-4e68-4b98-8ebb-a810ffb1f980"
      },
      "execution_count": 57,
      "outputs": [
        {
          "output_type": "execute_result",
          "data": {
            "text/plain": [
              "(array([6.26591056]), array([[-2.14024063,  0.26232725]]))"
            ]
          },
          "metadata": {},
          "execution_count": 57
        }
      ]
    },
    {
      "cell_type": "code",
      "source": [
        "X_new=np.linspace(1, 9, 100).reshape(100, 1)#100 value from -3 to 3\n",
        "X_new_poly = poly_features.transform(X_new)\n",
        "y_new = lin_reg.predict(X_new_poly)"
      ],
      "metadata": {
        "id": "YukSQoqMHSy2"
      },
      "execution_count": 60,
      "outputs": []
    },
    {
      "cell_type": "code",
      "source": [
        "plt.plot(X, y, \"b.\")\n",
        "plt.plot(X_new, y_new, \"r-\",label=\"Predictions\")\n",
        "plt.xlabel(\"$x$\",)\n",
        "plt.ylabel(\"$y$\", rotation=0)\n",
        "plt.legend(loc=\"upper left\")\n",
        "plt.axis([1, 9, 0, 10])\n",
        "plt.show()"
      ],
      "metadata": {
        "colab": {
          "base_uri": "https://localhost:8080/",
          "height": 283
        },
        "id": "xfQAaxcHH7Ps",
        "outputId": "d3667f3f-9629-493f-a97f-19a246403605"
      },
      "execution_count": 64,
      "outputs": [
        {
          "output_type": "display_data",
          "data": {
            "image/png": "[encoded data removed]",
            "text/plain": [
              "<Figure size 432x288 with 1 Axes>"
            ]
          },
          "metadata": {
            "needs_background": "light"
          }
        }
      ]
    },
    {
      "cell_type": "markdown",
      "source": [
        "using gradient descent"
      ],
      "metadata": {
        "id": "MOeDZl8kJ1z1"
      }
    },
    {
      "cell_type": "code",
      "source": [
        "lr = 0.0006\n",
        "theta = np.random.randn(3, 1)\n",
        "iters = 100000\n",
        "for iter in range(iters):\n",
        "  grad = 2/100 * np.dot(X_com.T, np.dot(X_com, theta) - y)\n",
        "  theta = theta - lr*grad\n",
        "theta"
      ],
      "metadata": {
        "colab": {
          "base_uri": "https://localhost:8080/"
        },
        "id": "d7AuGv9OJ4R3",
        "outputId": "b8ce926b-f4d1-414f-f12e-70ab19d5212d"
      },
      "execution_count": 127,
      "outputs": [
        {
          "output_type": "execute_result",
          "data": {
            "text/plain": [
              "array([[ 6.12934706],\n",
              "       [ 0.25695454],\n",
              "       [-2.08089015]])"
            ]
          },
          "metadata": {},
          "execution_count": 127
        }
      ]
    }
  ]
}