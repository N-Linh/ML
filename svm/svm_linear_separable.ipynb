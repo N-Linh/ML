{
  "nbformat": 4,
  "nbformat_minor": 0,
  "metadata": {
    "colab": {
      "name": "svm_linear_separable.ipynb",
      "provenance": [],
      "authorship_tag": "ABX9TyPun1OR8P4bJ575VzlwMDrd",
      "include_colab_link": true
    },
    "kernelspec": {
      "name": "python3",
      "display_name": "Python 3"
    },
    "language_info": {
      "name": "python"
    }
  },
  "cells": [
    {
      "cell_type": "markdown",
      "metadata": {
        "id": "view-in-github",
        "colab_type": "text"
      },
      "source": [
        "<a href=\"https://colab.research.google.com/github/N-Linh/ML/blob/main/svm_linear_separable.ipynb\" target=\"_parent\"><img src=\"https://colab.research.google.com/assets/colab-badge.svg\" alt=\"Open In Colab\"/></a>"
      ]
    },
    {
      "cell_type": "code",
      "source": [
        "import numpy as np\n",
        "import pandas as pd\n",
        "import matplotlib.pyplot as plt"
      ],
      "metadata": {
        "id": "DHypewLMTfqq"
      },
      "execution_count": 17,
      "outputs": []
    },
    {
      "cell_type": "markdown",
      "source": [
        "hard/large margin classification"
      ],
      "metadata": {
        "id": "dxayC03fTrge"
      }
    },
    {
      "cell_type": "code",
      "source": [
        "from sklearn.svm import SVC\n",
        "from sklearn import datasets"
      ],
      "metadata": {
        "id": "eL-Fm5CpTyjp"
      },
      "execution_count": 18,
      "outputs": []
    },
    {
      "cell_type": "code",
      "source": [
        "iris_data = datasets.load_iris()\n",
        "X = iris_data[\"data\"][:, (2, 3)]\n",
        "y = iris_data[\"target\"]#y = {0, 1, 2}['setosa', 'versicolor', 'virginica']\n",
        "plt.plot(X[(y==0), 0], X[(y==0), 1], \"r.\", label=\"setosa, y = 0\")\n",
        "plt.plot(X[(y==1), 0], X[(y==1), 1], \"b^\", label=\"versicolor, y = 1\")\n",
        "plt.plot(X[(y==2), 0], X[(y==2), 1], \"g*\", label=\"virginica, y = 2\")\n",
        "plt.legend()"
      ],
      "metadata": {
        "colab": {
          "base_uri": "https://localhost:8080/",
          "height": 283
        },
        "id": "rvCKnvYWRxbX",
        "outputId": "9fc5a1e4-c6e1-424f-da40-cf626eb5e8d0"
      },
      "execution_count": 19,
      "outputs": [
        {
          "output_type": "execute_result",
          "data": {
            "text/plain": [
              "<matplotlib.legend.Legend at 0x7f3337ebbb90>"
            ]
          },
          "metadata": {},
          "execution_count": 19
        },
        {
          "output_type": "display_data",
          "data": {
            "image/png": "[encoded data removed]",
            "text/plain": [
              "<Figure size 432x288 with 1 Axes>"
            ]
          },
          "metadata": {
            "needs_background": "light"
          }
        }
      ]
    },
    {
      "cell_type": "code",
      "source": [
        "y, y[(y == 0) | (y == 1)]"
      ],
      "metadata": {
        "colab": {
          "base_uri": "https://localhost:8080/"
        },
        "id": "ERNoo8qHSahs",
        "outputId": "1705ba37-a2db-4b78-a6d4-16410cda764d"
      },
      "execution_count": 20,
      "outputs": [
        {
          "output_type": "execute_result",
          "data": {
            "text/plain": [
              "(array([0, 0, 0, 0, 0, 0, 0, 0, 0, 0, 0, 0, 0, 0, 0, 0, 0, 0, 0, 0, 0, 0,\n",
              "        0, 0, 0, 0, 0, 0, 0, 0, 0, 0, 0, 0, 0, 0, 0, 0, 0, 0, 0, 0, 0, 0,\n",
              "        0, 0, 0, 0, 0, 0, 1, 1, 1, 1, 1, 1, 1, 1, 1, 1, 1, 1, 1, 1, 1, 1,\n",
              "        1, 1, 1, 1, 1, 1, 1, 1, 1, 1, 1, 1, 1, 1, 1, 1, 1, 1, 1, 1, 1, 1,\n",
              "        1, 1, 1, 1, 1, 1, 1, 1, 1, 1, 1, 1, 2, 2, 2, 2, 2, 2, 2, 2, 2, 2,\n",
              "        2, 2, 2, 2, 2, 2, 2, 2, 2, 2, 2, 2, 2, 2, 2, 2, 2, 2, 2, 2, 2, 2,\n",
              "        2, 2, 2, 2, 2, 2, 2, 2, 2, 2, 2, 2, 2, 2, 2, 2, 2, 2]),\n",
              " array([0, 0, 0, 0, 0, 0, 0, 0, 0, 0, 0, 0, 0, 0, 0, 0, 0, 0, 0, 0, 0, 0,\n",
              "        0, 0, 0, 0, 0, 0, 0, 0, 0, 0, 0, 0, 0, 0, 0, 0, 0, 0, 0, 0, 0, 0,\n",
              "        0, 0, 0, 0, 0, 0, 1, 1, 1, 1, 1, 1, 1, 1, 1, 1, 1, 1, 1, 1, 1, 1,\n",
              "        1, 1, 1, 1, 1, 1, 1, 1, 1, 1, 1, 1, 1, 1, 1, 1, 1, 1, 1, 1, 1, 1,\n",
              "        1, 1, 1, 1, 1, 1, 1, 1, 1, 1, 1, 1]))"
            ]
          },
          "metadata": {},
          "execution_count": 20
        }
      ]
    },
    {
      "cell_type": "markdown",
      "source": [
        "linear separability, y = 0 vs y = 1"
      ],
      "metadata": {
        "id": "at61fEReXZmg"
      }
    },
    {
      "cell_type": "code",
      "source": [
        "setosa_or_versicolor = (y == 0) | (y == 1)#y = True if y = 0, 1 else False if y = 2\n",
        "X = X[setosa_or_versicolor]#get samples with label y = 0, y= 1\n",
        "y = y[setosa_or_versicolor]\n",
        "plt.plot(X[(y==0), 0], X[(y==0), 1], \"r.\", label=\"setosa, y = 0\")\n",
        "plt.plot(X[(y==1), 0], X[(y==1), 1], \"b^\", label=\"versicolor, y = 1\")\n",
        "plt.legend()"
      ],
      "metadata": {
        "colab": {
          "base_uri": "https://localhost:8080/",
          "height": 283
        },
        "id": "fiyDFnmMT-xA",
        "outputId": "6aa83c70-d801-4e6d-9fcc-018dfe50711b"
      },
      "execution_count": 21,
      "outputs": [
        {
          "output_type": "execute_result",
          "data": {
            "text/plain": [
              "<matplotlib.legend.Legend at 0x7f3337e27510>"
            ]
          },
          "metadata": {},
          "execution_count": 21
        },
        {
          "output_type": "display_data",
          "data": {
            "image/png": "[encoded data removed]",
            "text/plain": [
              "<Figure size 432x288 with 1 Axes>"
            ]
          },
          "metadata": {
            "needs_background": "light"
          }
        }
      ]
    },
    {
      "cell_type": "markdown",
      "source": [
        "using linear SVM, sklearn"
      ],
      "metadata": {
        "id": "JmnR6e0ZXsGQ"
      }
    },
    {
      "cell_type": "code",
      "source": [
        "svm_clf = SVC(kernel=\"linear\", C=float(\"inf\"))\n",
        "svm_clf.fit(X, y)"
      ],
      "metadata": {
        "id": "Bx44IKdEbvIW",
        "colab": {
          "base_uri": "https://localhost:8080/"
        },
        "outputId": "db81f5c6-c0a5-45ee-b274-6a50a8031106"
      },
      "execution_count": 22,
      "outputs": [
        {
          "output_type": "execute_result",
          "data": {
            "text/plain": [
              "SVC(C=inf, kernel='linear')"
            ]
          },
          "metadata": {},
          "execution_count": 22
        }
      ]
    },
    {
      "cell_type": "code",
      "source": [
        "svm_clf.coef_, svm_clf.intercept_"
      ],
      "metadata": {
        "id": "HkfOKOmeX5X9",
        "colab": {
          "base_uri": "https://localhost:8080/"
        },
        "outputId": "3212e06d-b94b-47d4-bd9c-771caa0dddfa"
      },
      "execution_count": 23,
      "outputs": [
        {
          "output_type": "execute_result",
          "data": {
            "text/plain": [
              "(array([[1.29411744, 0.82352928]]), array([-3.78823471]))"
            ]
          },
          "metadata": {},
          "execution_count": 23
        }
      ]
    },
    {
      "cell_type": "code",
      "source": [
        "def plot_svm(svm_clf, xmin, xmax):\n",
        "  #w0x0 + w1x1 + b = 0, x1 = -w0x0/w1 - b/w1\n",
        "  x0 = np.linspace(xmin, xmax, 200)\n",
        "  w = svm_clf.coef_[0]\n",
        "  b = svm_clf.intercept_[0]\n",
        "  decision_bound = -w[0]*x0/w[1] - b/w[1]\n",
        "  margin = 1/w[1]\n",
        "  mar_ver = decision_bound + margin\n",
        "  mar_set = decision_bound - margin\n",
        "  plt.plot(x0, decision_bound, \"k-\", label=\"decision bound\")\n",
        "  plt.plot(x0, mar_ver, \"k--\")\n",
        "  plt.plot(x0, mar_set, \"k--\")"
      ],
      "metadata": {
        "id": "ByioBXj6jwOE"
      },
      "execution_count": 24,
      "outputs": []
    },
    {
      "cell_type": "code",
      "source": [
        "plt.figure(figsize=(10, 2.7))\n",
        "plot_svm(svm_clf, 0, 5.5)\n",
        "plt.plot(X[(y==0), 0], X[(y==0), 1], \"r.\", label=\"setosa, y = 0\")\n",
        "plt.plot(X[(y==1), 0], X[(y==1), 1], \"b^\", label=\"versicolor, y = 1\")\n",
        "plt.legend()\n",
        "plt.axis([0, 5.5, 0, 2])"
      ],
      "metadata": {
        "colab": {
          "base_uri": "https://localhost:8080/",
          "height": 217
        },
        "id": "UjeS4QFLkNm1",
        "outputId": "f9444eb6-d613-4867-9dc4-23192fdedd18"
      },
      "execution_count": 25,
      "outputs": [
        {
          "output_type": "execute_result",
          "data": {
            "text/plain": [
              "(0.0, 5.5, 0.0, 2.0)"
            ]
          },
          "metadata": {},
          "execution_count": 25
        },
        {
          "output_type": "display_data",
          "data": {
            "image/png": "[encoded data removed]",
            "text/plain": [
              "<Figure size 720x194.4 with 1 Axes>"
            ]
          },
          "metadata": {
            "needs_background": "light"
          }
        }
      ]
    },
    {
      "cell_type": "markdown",
      "source": [
        "sensitivity to feature scales"
      ],
      "metadata": {
        "id": "38ZcaIEXbjlQ"
      }
    },
    {
      "cell_type": "code",
      "source": [
        "Xs = np.array([[1, 50], [5, 20], [3, 80], [5, 60]]).astype(np.float64)\n",
        "ys = np.array([0, 0, 1, 1])"
      ],
      "metadata": {
        "id": "Zckd8hzNboGQ"
      },
      "execution_count": 26,
      "outputs": []
    },
    {
      "cell_type": "code",
      "source": [
        "plt.figure(figsize=(4.5, 2.7))\n",
        "plt.plot(Xs[(ys==0),0], Xs[(ys==0), 1], \"b.\", label=\"y=0\")\n",
        "plt.plot(Xs[(ys==1),0], Xs[(ys==1), 1], \"rs\", label=\"y=1\")\n",
        "plt.legend()"
      ],
      "metadata": {
        "colab": {
          "base_uri": "https://localhost:8080/",
          "height": 213
        },
        "id": "evwSai6PcBuj",
        "outputId": "652f2e29-5523-4047-c9aa-a5b6c2cdbd68"
      },
      "execution_count": 27,
      "outputs": [
        {
          "output_type": "execute_result",
          "data": {
            "text/plain": [
              "<matplotlib.legend.Legend at 0x7f3337d9db50>"
            ]
          },
          "metadata": {},
          "execution_count": 27
        },
        {
          "output_type": "display_data",
          "data": {
            "image/png": "[encoded data removed]",
            "text/plain": [
              "<Figure size 324x194.4 with 1 Axes>"
            ]
          },
          "metadata": {
            "needs_background": "light"
          }
        }
      ]
    },
    {
      "cell_type": "code",
      "source": [
        "svm_clf = SVC(kernel=\"linear\", C=100)\n",
        "svm_clf.fit(Xs, ys)"
      ],
      "metadata": {
        "colab": {
          "base_uri": "https://localhost:8080/"
        },
        "id": "gyBx9LUeiaTK",
        "outputId": "8ede473a-8f41-4464-e3e4-e19fa5cc8148"
      },
      "execution_count": 28,
      "outputs": [
        {
          "output_type": "execute_result",
          "data": {
            "text/plain": [
              "SVC(C=100, kernel='linear')"
            ]
          },
          "metadata": {},
          "execution_count": 28
        }
      ]
    },
    {
      "cell_type": "code",
      "source": [
        "plt.figure(figsize=(4.5, 2.7))\n",
        "plot_svm(svm_clf, 0, 5.5)\n",
        "plt.plot(Xs[(ys==0),0], Xs[(ys==0), 1], \"b.\", label=\"y=0\")\n",
        "plt.plot(Xs[(ys==1),0], Xs[(ys==1), 1], \"rs\", label=\"y=1\")\n",
        "plt.legend()\n",
        "plt.title(\"unscaled feature\")"
      ],
      "metadata": {
        "colab": {
          "base_uri": "https://localhost:8080/",
          "height": 229
        },
        "id": "1x3N88INkeWq",
        "outputId": "b5ece7bd-5b2f-4545-d81e-47d678452f56"
      },
      "execution_count": 29,
      "outputs": [
        {
          "output_type": "execute_result",
          "data": {
            "text/plain": [
              "Text(0.5, 1.0, 'unscaled feature')"
            ]
          },
          "metadata": {},
          "execution_count": 29
        },
        {
          "output_type": "display_data",
          "data": {
            "image/png": "[encoded data removed]",
            "text/plain": [
              "<Figure size 324x194.4 with 1 Axes>"
            ]
          },
          "metadata": {
            "needs_background": "light"
          }
        }
      ]
    },
    {
      "cell_type": "code",
      "source": [
        "from sklearn.preprocessing import StandardScaler\n",
        "scaler = StandardScaler()\n",
        "X_scaled = scaler.fit_transform(Xs)\n",
        "svm_clf.fit(X_scaled, ys)"
      ],
      "metadata": {
        "colab": {
          "base_uri": "https://localhost:8080/"
        },
        "id": "DaQBYNYxjZPh",
        "outputId": "ead096f1-4083-4824-f375-df55c32b8747"
      },
      "execution_count": 30,
      "outputs": [
        {
          "output_type": "execute_result",
          "data": {
            "text/plain": [
              "SVC(C=100, kernel='linear')"
            ]
          },
          "metadata": {},
          "execution_count": 30
        }
      ]
    },
    {
      "cell_type": "code",
      "source": [
        "plt.figure(figsize=(4.5, 2.7))\n",
        "plot_svm(svm_clf,-2, 2)\n",
        "plt.plot(X_scaled[(ys==0),0], X_scaled[(ys==0), 1], \"b.\", label=\"y=0\")\n",
        "plt.plot(X_scaled[(ys==1),0], X_scaled[(ys==1), 1], \"rs\", label=\"y=1\")\n",
        "plt.legend()\n",
        "plt.title(\"scaled feature\")"
      ],
      "metadata": {
        "colab": {
          "base_uri": "https://localhost:8080/",
          "height": 229
        },
        "id": "VF2EgVD6kqb6",
        "outputId": "94aee8c8-3c4c-4b4d-bc67-f329df805337"
      },
      "execution_count": 31,
      "outputs": [
        {
          "output_type": "execute_result",
          "data": {
            "text/plain": [
              "Text(0.5, 1.0, 'scaled feature')"
            ]
          },
          "metadata": {},
          "execution_count": 31
        },
        {
          "output_type": "display_data",
          "data": {
            "image/png": "[encoded data removed]",
            "text/plain": [
              "<Figure size 324x194.4 with 1 Axes>"
            ]
          },
          "metadata": {
            "needs_background": "light"
          }
        }
      ]
    },
    {
      "cell_type": "markdown",
      "source": [
        "soft margin classification, margin violation"
      ],
      "metadata": {
        "id": "9rN9WoBuPt1l"
      }
    },
    {
      "cell_type": "code",
      "source": [
        "import numpy as np \n",
        "from sklearn import datasets\n",
        "from sklearn.pipeline import Pipeline\n",
        "from sklearn.preprocessing import StandardScaler\n",
        "from sklearn.svm import LinearSVC"
      ],
      "metadata": {
        "id": "UuK0ZTEPP0vS"
      },
      "execution_count": 97,
      "outputs": []
    },
    {
      "cell_type": "code",
      "source": [
        "X = iris_data[\"data\"][:, (2, 3)]\n",
        "# y = (iris_data[\"target\"] == 2).astype(np.float64)#y = {0, 1, 2}['setosa', 'versicolor', 'virginica']\n",
        "y = iris_data[\"target\"]"
      ],
      "metadata": {
        "id": "IUPVFSBPRwLT"
      },
      "execution_count": 98,
      "outputs": []
    },
    {
      "cell_type": "code",
      "source": [
        "versicolor_or_virginica = (y == 1) | (y == 2)#y = True if y = 0, 1 else False if y = 2\n",
        "X = X[versicolor_or_virginica]#get samples with label y = 1, y= 2\n",
        "y = y[versicolor_or_virginica]"
      ],
      "metadata": {
        "id": "FJWZxFDrccj_"
      },
      "execution_count": 99,
      "outputs": []
    },
    {
      "cell_type": "code",
      "source": [
        "plt.plot(X[(y == 1), 0], X[(y == 1), 1], \"b.\", label=\"versicolor\")\n",
        "plt.plot(X[(y == 2), 0], X[(y == 2), 1], \"r^\", label=\"virginica\")\n",
        "plt.legend()"
      ],
      "metadata": {
        "colab": {
          "base_uri": "https://localhost:8080/",
          "height": 283
        },
        "id": "-1cFqX_QWaMr",
        "outputId": "dc09294a-8550-4346-ebb9-6123f7626da6"
      },
      "execution_count": 100,
      "outputs": [
        {
          "output_type": "execute_result",
          "data": {
            "text/plain": [
              "<matplotlib.legend.Legend at 0x7f3332b06350>"
            ]
          },
          "metadata": {},
          "execution_count": 100
        },
        {
          "output_type": "display_data",
          "data": {
            "image/png": "[encoded data removed]",
            "text/plain": [
              "<Figure size 432x288 with 1 Axes>"
            ]
          },
          "metadata": {
            "needs_background": "light"
          }
        }
      ]
    },
    {
      "cell_type": "code",
      "source": [
        "svm_clf = Pipeline([\n",
        "          (\"scaler\", StandardScaler()),\n",
        "          (\"linear_svc\", LinearSVC(C=1, loss=\"hinge\", random_state=42))\n",
        "])\n",
        "svm_clf.fit(X, y)"
      ],
      "metadata": {
        "colab": {
          "base_uri": "https://localhost:8080/"
        },
        "id": "hhWWvyYhSPre",
        "outputId": "3364ccb8-c4b1-40b1-bde9-5cc1768eaa90"
      },
      "execution_count": 101,
      "outputs": [
        {
          "output_type": "execute_result",
          "data": {
            "text/plain": [
              "Pipeline(steps=[('scaler', StandardScaler()),\n",
              "                ('linear_svc', LinearSVC(C=1, loss='hinge', random_state=42))])"
            ]
          },
          "metadata": {},
          "execution_count": 101
        }
      ]
    },
    {
      "cell_type": "markdown",
      "source": [
        "compare 2 regularization C = 1, C = 100"
      ],
      "metadata": {
        "id": "n__0FwumS_rw"
      }
    },
    {
      "cell_type": "code",
      "source": [
        "scaler = StandardScaler()\n",
        "svm_clf1 = LinearSVC(C = 1, loss = \"hinge\", random_state = 42)\n",
        "svm_clf2 = LinearSVC(C = 100, loss = \"hinge\", random_state = 42)\n",
        "svm_clf1_scaled = Pipeline([\n",
        "            (\"scaler\", scaler),\n",
        "            (\"linear_svc\", svm_clf1)\n",
        "])\n",
        "svm_clf2_scaled = Pipeline([\n",
        "              (\"scaler\", scaler),\n",
        "              (\"linear_svc\", svm_clf2)\n",
        "])\n",
        "svm_clf1_scaled.fit(X, y)\n",
        "svm_clf1_scaled.fit(X, y)"
      ],
      "metadata": {
        "colab": {
          "base_uri": "https://localhost:8080/"
        },
        "id": "NWyd94rMTEyF",
        "outputId": "8f2e5276-daa6-4761-e370-74eb9b8e901b"
      },
      "execution_count": 102,
      "outputs": [
        {
          "output_type": "execute_result",
          "data": {
            "text/plain": [
              "Pipeline(steps=[('scaler', StandardScaler()),\n",
              "                ('linear_svc', LinearSVC(C=1, loss='hinge', random_state=42))])"
            ]
          },
          "metadata": {},
          "execution_count": 102
        }
      ]
    },
    {
      "cell_type": "code",
      "source": [
        "svm_clf1.fit(X, y)\n",
        "svm_clf2.fit(X, y)"
      ],
      "metadata": {
        "colab": {
          "base_uri": "https://localhost:8080/"
        },
        "id": "pp8Sg-DjaYLV",
        "outputId": "f987b9d4-e2c6-4f35-c17d-fcf991fc34d8"
      },
      "execution_count": 104,
      "outputs": [
        {
          "output_type": "stream",
          "name": "stderr",
          "text": [
            "/usr/local/lib/python3.7/dist-packages/sklearn/svm/_base.py:1208: ConvergenceWarning: Liblinear failed to converge, increase the number of iterations.\n",
            "  ConvergenceWarning,\n",
            "/usr/local/lib/python3.7/dist-packages/sklearn/svm/_base.py:1208: ConvergenceWarning: Liblinear failed to converge, increase the number of iterations.\n",
            "  ConvergenceWarning,\n"
          ]
        },
        {
          "output_type": "execute_result",
          "data": {
            "text/plain": [
              "LinearSVC(C=100, loss='hinge', random_state=42)"
            ]
          },
          "metadata": {},
          "execution_count": 104
        }
      ]
    },
    {
      "cell_type": "code",
      "source": [
        "plt.figure(figsize=(5, 2.7))\n",
        "plt.plot(X[(y == 1), 0], X[(y == 1), 1], \"b.\", label=\"vesicolor\")\n",
        "plt.plot(X[(y == 2), 0], X[(y == 2), 1], \"r^\", label=\"virginica\")\n",
        "plot_svm(svm_clf1, 4, 5.9)\n",
        "plt.legend()\n",
        "plt.axis([4, 5.9, 0.8, 2.8])"
      ],
      "metadata": {
        "colab": {
          "base_uri": "https://localhost:8080/",
          "height": 213
        },
        "id": "pITB9aK9aeqw",
        "outputId": "223dcc81-f462-43e8-a74f-c751a2df0a1e"
      },
      "execution_count": 106,
      "outputs": [
        {
          "output_type": "execute_result",
          "data": {
            "text/plain": [
              "(4.0, 5.9, 0.8, 2.8)"
            ]
          },
          "metadata": {},
          "execution_count": 106
        },
        {
          "output_type": "display_data",
          "data": {
            "image/png": "[encoded data removed]",
            "text/plain": [
              "<Figure size 360x194.4 with 1 Axes>"
            ]
          },
          "metadata": {
            "needs_background": "light"
          }
        }
      ]
    },
    {
      "cell_type": "code",
      "source": [
        "plt.figure(figsize=(5, 2.7))\n",
        "plt.plot(X[(y == 1), 0], X[(y == 1), 1], \"b.\", label=\"versicolor\")\n",
        "plt.plot(X[(y == 2), 0], X[(y == 2), 1], \"r^\", label=\"virginica\")\n",
        "plot_svm(svm_clf2, 4, 5.9)\n",
        "plt.legend()\n",
        "plt.axis([4, 5.9, 0.8, 2.8])"
      ],
      "metadata": {
        "colab": {
          "base_uri": "https://localhost:8080/",
          "height": 213
        },
        "id": "wQU91bi0arQ4",
        "outputId": "42fececc-0976-4bf9-a5c9-9ff06de559fc"
      },
      "execution_count": 108,
      "outputs": [
        {
          "output_type": "execute_result",
          "data": {
            "text/plain": [
              "(4.0, 5.9, 0.8, 2.8)"
            ]
          },
          "metadata": {},
          "execution_count": 108
        },
        {
          "output_type": "display_data",
          "data": {
            "image/png": "[encoded data removed]",
            "text/plain": [
              "<Figure size 360x194.4 with 1 Axes>"
            ]
          },
          "metadata": {
            "needs_background": "light"
          }
        }
      ]
    }
  ]
}