{
  "nbformat": 4,
  "nbformat_minor": 0,
  "metadata": {
    "colab": {
      "name": "svm_non_linear_classification.ipynb",
      "provenance": [],
      "authorship_tag": "ABX9TyPempEvv3AAdFCe3JQ++HX8",
      "include_colab_link": true
    },
    "kernelspec": {
      "name": "python3",
      "display_name": "Python 3"
    },
    "language_info": {
      "name": "python"
    }
  },
  "cells": [
    {
      "cell_type": "markdown",
      "metadata": {
        "id": "view-in-github",
        "colab_type": "text"
      },
      "source": [
        "<a href=\"https://colab.research.google.com/github/N-Linh/ML/blob/main/svm_non_linear_classification.ipynb\" target=\"_parent\"><img src=\"https://colab.research.google.com/assets/colab-badge.svg\" alt=\"Open In Colab\"/></a>"
      ]
    },
    {
      "cell_type": "markdown",
      "source": [
        "non linear classification"
      ],
      "metadata": {
        "id": "ZAvIIqviPa4q"
      }
    },
    {
      "cell_type": "code",
      "source": [
        "import matplotlib.pyplot as plt\n",
        "import numpy as np\n",
        "import pandas as pd"
      ],
      "metadata": {
        "id": "iFKSfGPvRLqX"
      },
      "execution_count": 74,
      "outputs": []
    },
    {
      "cell_type": "code",
      "execution_count": 75,
      "metadata": {
        "id": "LRjPFwttO56t"
      },
      "outputs": [],
      "source": [
        "X1 = np.linspace(-4, 4, 9).reshape(-1, 1)\n",
        "X2 = np.c_[X1, X1**2]\n",
        "y = np.array([0, 0, 1, 1, 1, 1, 1, 0, 0])"
      ]
    },
    {
      "cell_type": "code",
      "source": [
        "plt.figure(figsize=(10, 3))\n",
        "plt.subplot(121)\n",
        "plt.plot(X1[(y==0)], np.zeros(len(X1[(y==0)])), \"b.\", label=\"y = 0\")\n",
        "plt.plot(X1[(y==1)], np.zeros(len(X1[(y==1)])), \"r*\", label=\"y = 1\")\n",
        "plt.legend()\n",
        "plt.title(\"1 feature\")\n",
        "\n",
        "plt.subplot(122)\n",
        "plt.plot(X2[(y==0), 0], X2[(y==0), 1], \"b.\", label=\"y = 0\")\n",
        "plt.plot(X2[(y==1), 0], X2[(y==1), 1], \"r*\", label=\"y = 1\")\n",
        "plt.legend()\n",
        "plt.title(\"2 features\")\n",
        "plt.show()"
      ],
      "metadata": {
        "colab": {
          "base_uri": "https://localhost:8080/",
          "height": 227
        },
        "id": "A3yUUsA8RKe-",
        "outputId": "ff405bcd-51b5-44cb-b87d-3c4d5c584957"
      },
      "execution_count": 76,
      "outputs": [
        {
          "output_type": "display_data",
          "data": {
            "image/png": "[encoded data removed]",
            "text/plain": [
              "<Figure size 720x216 with 2 Axes>"
            ]
          },
          "metadata": {
            "needs_background": "light"
          }
        }
      ]
    },
    {
      "cell_type": "code",
      "source": [
        "from sklearn.svm import SVC\n",
        "svm_clf = SVC(kernel = \"linear\", C=float(\"inf\"))\n",
        "svm_clf.fit(X2, y)"
      ],
      "metadata": {
        "colab": {
          "base_uri": "https://localhost:8080/"
        },
        "id": "Lp2btOzvUIed",
        "outputId": "8db0ac80-1c53-4e32-f2d5-64675e811d5b"
      },
      "execution_count": 77,
      "outputs": [
        {
          "output_type": "execute_result",
          "data": {
            "text/plain": [
              "SVC(C=inf, kernel='linear')"
            ]
          },
          "metadata": {},
          "execution_count": 77
        }
      ]
    },
    {
      "cell_type": "code",
      "source": [
        "def plot_svm(svm_clf, xmin, xmax):\n",
        "  #w0x0 + w1x1 + b = 0, x1 = -w0x0/w1 - b/w1\n",
        "  x0 = np.linspace(xmin, xmax, 200)\n",
        "  w = svm_clf.coef_[0]\n",
        "  b = svm_clf.intercept_[0]\n",
        "  decision_bound = -w[0]*x0/w[1] - b/w[1]\n",
        "  margin = 1/w[1]\n",
        "  mar_pos = decision_bound + margin\n",
        "  mar_neg = decision_bound - margin\n",
        "  plt.plot(x0, decision_bound, \"k-\", label=\"decision bound\")\n",
        "  plt.plot(x0, mar_pos, \"k--\")\n",
        "  plt.plot(x0, mar_neg, \"k--\")"
      ],
      "metadata": {
        "id": "J_oenI1wUxIH"
      },
      "execution_count": 78,
      "outputs": []
    },
    {
      "cell_type": "code",
      "source": [
        "plt.figure(figsize=(5, 3))\n",
        "plt.plot(X2[(y==0), 0], X2[(y==0), 1], \"b.\", label=\"y = 0\")\n",
        "plt.plot(X2[(y==1), 0], X2[(y==1), 1], \"r*\", label=\"y = 1\")\n",
        "plot_svm(svm_clf, -4, 4)\n",
        "plt.legend()\n",
        "plt.title(\"2 features\")"
      ],
      "metadata": {
        "colab": {
          "base_uri": "https://localhost:8080/",
          "height": 245
        },
        "id": "o1v-Y_F5VKea",
        "outputId": "96ed45a8-3c79-4b67-d959-e7f2f02c9668"
      },
      "execution_count": 79,
      "outputs": [
        {
          "output_type": "execute_result",
          "data": {
            "text/plain": [
              "Text(0.5, 1.0, '2 features')"
            ]
          },
          "metadata": {},
          "execution_count": 79
        },
        {
          "output_type": "display_data",
          "data": {
            "image/png": "[encoded data removed]",
            "text/plain": [
              "<Figure size 360x216 with 1 Axes>"
            ]
          },
          "metadata": {
            "needs_background": "light"
          }
        }
      ]
    },
    {
      "cell_type": "markdown",
      "source": [
        "using make_moons dataset"
      ],
      "metadata": {
        "id": "acQO64P7WoM3"
      }
    },
    {
      "cell_type": "code",
      "source": [
        "from sklearn.datasets import make_moons\n",
        "X, y = make_moons(n_samples=100, noise=0.15, random_state=42)\n",
        "X.shape, y.shape"
      ],
      "metadata": {
        "colab": {
          "base_uri": "https://localhost:8080/"
        },
        "id": "63Mo6iZMWnnC",
        "outputId": "56e710f1-ba7e-4f7b-8290-f4110e894360"
      },
      "execution_count": 80,
      "outputs": [
        {
          "output_type": "execute_result",
          "data": {
            "text/plain": [
              "((100, 2), (100,))"
            ]
          },
          "metadata": {},
          "execution_count": 80
        }
      ]
    },
    {
      "cell_type": "code",
      "source": [
        "plt.plot(X[(y==0), 0], X[(y==0), 1], \"b*\", label=\"y = 0\")\n",
        "plt.plot(X[(y==1), 0], X[(y==1), 1], \"rs\", label=\"y = 1\")\n",
        "plt.xlabel(\"x1\")\n",
        "plt.ylabel(\"x2\", rotation=0)\n",
        "plt.legend()"
      ],
      "metadata": {
        "colab": {
          "base_uri": "https://localhost:8080/",
          "height": 297
        },
        "id": "eAzn1TexXBQC",
        "outputId": "1bcafaf0-d3b3-4d63-cf0d-91613276622d"
      },
      "execution_count": 81,
      "outputs": [
        {
          "output_type": "execute_result",
          "data": {
            "text/plain": [
              "<matplotlib.legend.Legend at 0x7f9ce6871110>"
            ]
          },
          "metadata": {},
          "execution_count": 81
        },
        {
          "output_type": "display_data",
          "data": {
            "image/png": "[encoded data removed]",
            "text/plain": [
              "<Figure size 432x288 with 1 Axes>"
            ]
          },
          "metadata": {
            "needs_background": "light"
          }
        }
      ]
    },
    {
      "cell_type": "code",
      "source": [
        "from sklearn.pipeline import Pipeline\n",
        "from sklearn.preprocessing import PolynomialFeatures, StandardScaler\n",
        "from sklearn.svm import LinearSVC\n",
        "#before using linearSVC with regularization C, must scale features\n",
        "svm_polynomial_clf = Pipeline([\n",
        "      (\"poly_features\", PolynomialFeatures(degree=3)),\n",
        "      (\"scaler\", StandardScaler()),\n",
        "      (\"svm_clf\", LinearSVC(C=10, loss=\"hinge\", random_state=42))\n",
        "])\n",
        "svm_polynomial_clf.fit(X, y)"
      ],
      "metadata": {
        "colab": {
          "base_uri": "https://localhost:8080/"
        },
        "id": "G_ovtdpOZJSW",
        "outputId": "71e86d61-541a-43a6-8ee2-62074c941d46"
      },
      "execution_count": 82,
      "outputs": [
        {
          "output_type": "stream",
          "name": "stderr",
          "text": [
            "/usr/local/lib/python3.7/dist-packages/sklearn/svm/_base.py:1208: ConvergenceWarning: Liblinear failed to converge, increase the number of iterations.\n",
            "  ConvergenceWarning,\n"
          ]
        },
        {
          "output_type": "execute_result",
          "data": {
            "text/plain": [
              "Pipeline(steps=[('poly_features', PolynomialFeatures(degree=3)),\n",
              "                ('scaler', StandardScaler()),\n",
              "                ('svm_clf', LinearSVC(C=10, loss='hinge', random_state=42))])"
            ]
          },
          "metadata": {},
          "execution_count": 82
        }
      ]
    },
    {
      "cell_type": "code",
      "source": [
        "x0_pre = np.linspace(-1.5, 2.5, 100)\n",
        "x1_pre = np.linspace(-1, 1.5, 100)\n",
        "x0, x1 = np.meshgrid(x0_pre, x1_pre)\n",
        "X_pre = np.c_[x0.ravel(), x1.ravel()]\n",
        "y_pre = svm_polynomial_clf.predict(X_pre).reshape(x0.shape)\n",
        "x0.shape, y_pre.shape"
      ],
      "metadata": {
        "colab": {
          "base_uri": "https://localhost:8080/"
        },
        "id": "674H2v45bIPc",
        "outputId": "c830200a-eee0-42fb-b8b2-c3898b961e9c"
      },
      "execution_count": 83,
      "outputs": [
        {
          "output_type": "execute_result",
          "data": {
            "text/plain": [
              "((100, 100), (100, 100))"
            ]
          },
          "metadata": {},
          "execution_count": 83
        }
      ]
    },
    {
      "cell_type": "code",
      "source": [
        "plt.contourf(x0, x1, y_pre, cmap=plt.cm.brg, alpha=0.2)\n",
        "plt.plot(X[(y==0), 0], X[(y==0), 1], \"b*\", label=\"y = 0\")\n",
        "plt.plot(X[(y==1), 0], X[(y==1), 1], \"rs\", label=\"y = 1\")\n",
        "plt.xlabel(\"x1\")\n",
        "plt.ylabel(\"x2\", rotation=0)\n",
        "plt.legend()"
      ],
      "metadata": {
        "colab": {
          "base_uri": "https://localhost:8080/",
          "height": 301
        },
        "id": "Mw7r_RqZcxPl",
        "outputId": "aa11cd1b-bb18-400c-93cc-832d34933e77"
      },
      "execution_count": 84,
      "outputs": [
        {
          "output_type": "execute_result",
          "data": {
            "text/plain": [
              "<matplotlib.legend.Legend at 0x7f9ce67fa550>"
            ]
          },
          "metadata": {},
          "execution_count": 84
        },
        {
          "output_type": "display_data",
          "data": {
            "image/png": "[encoded data removed]",
            "text/plain": [
              "<Figure size 432x288 with 1 Axes>"
            ]
          },
          "metadata": {
            "needs_background": "light"
          }
        }
      ]
    },
    {
      "cell_type": "markdown",
      "source": [
        "kernel trick, polynimial kernel"
      ],
      "metadata": {
        "id": "2gW_ZWxseIqs"
      }
    },
    {
      "cell_type": "code",
      "source": [
        "from sklearn.svm import SVC\n",
        "svm_poly_kernel_clf = Pipeline([\n",
        "      (\"scaler\", StandardScaler()),\n",
        "      (\"svm_clf\", SVC(kernel=\"poly\", degree=3, coef0=1, C=5))\n",
        "])#coef0 kiem soat muc do mo hinh bi anh huong boi da thuc bac cao, va da thuc bac thap.\n",
        "svm_poly_kernel_clf.fit(X, y)\n",
        "svm_poly100_kernel_clf = Pipeline([\n",
        "      (\"scaler\", StandardScaler()),\n",
        "      (\"svm_clf\", SVC(kernel=\"poly\", degree=10, coef0=100, C=5))\n",
        "])\n",
        "svm_poly100_kernel_clf.fit(X, y)"
      ],
      "metadata": {
        "colab": {
          "base_uri": "https://localhost:8080/"
        },
        "id": "vGxPJpyseM59",
        "outputId": "5b15c9f6-7c7c-4372-82d9-273ea2358071"
      },
      "execution_count": 85,
      "outputs": [
        {
          "output_type": "execute_result",
          "data": {
            "text/plain": [
              "Pipeline(steps=[('scaler', StandardScaler()),\n",
              "                ('svm_clf', SVC(C=5, coef0=100, degree=10, kernel='poly'))])"
            ]
          },
          "metadata": {},
          "execution_count": 85
        }
      ]
    },
    {
      "cell_type": "code",
      "source": [
        "def plot_svm_poly_kernel(svm_clf, axes):\n",
        "  x0_pre = np.linspace(axes[0], axes[1], 100)\n",
        "  x1_pre = np.linspace(axes[2], axes[3], 100)\n",
        "  x0, x1 = np.meshgrid(x0_pre, x1_pre)\n",
        "  X_pre = np.c_[x0.ravel(), x1.ravel()]\n",
        "  y_pre = svm_clf.predict(X_pre).reshape(x0.shape)\n",
        "  plt.contourf(x0, x1, y_pre, cmap=plt.cm.brg, alpha=0.2, label=\"decision bound\")\n",
        "def plot_make_moons(X, y):\n",
        "  plt.plot(X[(y==0), 0], X[(y==0), 1], \"b*\", label=\"y = 0\")\n",
        "  plt.plot(X[(y==1), 0], X[(y==1), 1], \"rs\", label=\"y = 1\")\n",
        "  plt.xlabel(\"x1\")\n",
        "  plt.ylabel(\"x2\", rotation=0)\n"
      ],
      "metadata": {
        "id": "VMf-DvnqiuYO"
      },
      "execution_count": 86,
      "outputs": []
    },
    {
      "cell_type": "code",
      "source": [
        "fig, axes = plt.subplots(ncols=2, figsize=(10.5, 4), sharey=True)\n",
        "\n",
        "plt.sca(axes[0])\n",
        "plot_svm_poly_kernel(svm_poly_kernel_clf, [-1.5, 2.45, -1, 1.5])\n",
        "plot_make_moons(X, y)\n",
        "plt.legend()\n",
        "plt.title(\"degree = 3, C = 5\")\n",
        "\n",
        "plt.sca(axes[1])\n",
        "plot_svm_poly_kernel(svm_poly100_kernel_clf, [-1.5, 2.45, -1, 1.5])\n",
        "plot_make_moons(X, y)\n",
        "plt.legend()\n",
        "plt.title(\"degree = 10, C = 5\")"
      ],
      "metadata": {
        "colab": {
          "base_uri": "https://localhost:8080/",
          "height": 397
        },
        "id": "aMGhqIlFiFxo",
        "outputId": "141f9226-1b2a-47bc-ea8d-dd301c40aca5"
      },
      "execution_count": 87,
      "outputs": [
        {
          "output_type": "stream",
          "name": "stderr",
          "text": [
            "/usr/local/lib/python3.7/dist-packages/ipykernel_launcher.py:7: UserWarning: The following kwargs were not used by contour: 'label'\n",
            "  import sys\n",
            "/usr/local/lib/python3.7/dist-packages/ipykernel_launcher.py:7: UserWarning: The following kwargs were not used by contour: 'label'\n",
            "  import sys\n"
          ]
        },
        {
          "output_type": "execute_result",
          "data": {
            "text/plain": [
              "Text(0.5, 1.0, 'degree = 10, C = 5')"
            ]
          },
          "metadata": {},
          "execution_count": 87
        },
        {
          "output_type": "display_data",
          "data": {
            "image/png": "[encoded data removed]",
            "text/plain": [
              "<Figure size 756x288 with 2 Axes>"
            ]
          },
          "metadata": {
            "needs_background": "light"
          }
        }
      ]
    },
    {
      "cell_type": "markdown",
      "source": [
        "kernel gaussian rbf"
      ],
      "metadata": {
        "id": "7OrJyE1AyILg"
      }
    }
  ]
}