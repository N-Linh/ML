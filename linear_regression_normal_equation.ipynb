{
  "nbformat": 4,
  "nbformat_minor": 0,
  "metadata": {
    "colab": {
      "name": "linear-regression_normal-equation.ipynb",
      "provenance": [],
      "collapsed_sections": [],
      "authorship_tag": "ABX9TyOEdMkVv825A3CtKs0ZXbvL",
      "include_colab_link": true
    },
    "kernelspec": {
      "name": "python3",
      "display_name": "Python 3"
    },
    "language_info": {
      "name": "python"
    }
  },
  "cells": [
    {
      "cell_type": "markdown",
      "metadata": {
        "id": "view-in-github",
        "colab_type": "text"
      },
      "source": [
        "<a href=\"https://colab.research.google.com/github/N-Linh/ML/blob/main/linear_regression_normal_equation.ipynb\" target=\"_parent\"><img src=\"https://colab.research.google.com/assets/colab-badge.svg\" alt=\"Open In Colab\"/></a>"
      ]
    },
    {
      "cell_type": "code",
      "execution_count": null,
      "metadata": {
        "id": "a9F_yFwipbbz"
      },
      "outputs": [],
      "source": [
        "import numpy as np\n",
        "import pandas as pd\n",
        "import matplotlib.pyplot as plt"
      ]
    },
    {
      "cell_type": "markdown",
      "source": [
        "create data"
      ],
      "metadata": {
        "id": "hNaUUrvMqGYF"
      }
    },
    {
      "cell_type": "code",
      "source": [
        "X = 1 + 2 * np.random.rand(100, 1)# vector with random values 100x1 in range [0, 1], 5 + 2* denote the value range in [1, 3]\n",
        "#np.random.rand is uniform distribute\n",
        "y = 5 + 3*X + np.random.randn(100, 1)#np.random.randn is normal distribution\n",
        "#y= 5 + 3*X + gauss noise"
      ],
      "metadata": {
        "id": "tUAg8rlMqTAB"
      },
      "execution_count": null,
      "outputs": []
    },
    {
      "cell_type": "code",
      "source": [
        "X.shape, y.shape"
      ],
      "metadata": {
        "colab": {
          "base_uri": "https://localhost:8080/"
        },
        "id": "gxuf1OXdtXTa",
        "outputId": "d1e09e34-0666-4fa5-a642-67ac82ba411f"
      },
      "execution_count": null,
      "outputs": [
        {
          "output_type": "execute_result",
          "data": {
            "text/plain": [
              "((100, 1), (100, 1))"
            ]
          },
          "metadata": {},
          "execution_count": 77
        }
      ]
    },
    {
      "cell_type": "code",
      "source": [
        "plt.plot(X, y, \"b.\")\n",
        "plt.xlabel(\"$X$\", fontsize=18)\n",
        "plt.ylabel(\"$y$\", rotation=0, fontsize=18)"
      ],
      "metadata": {
        "colab": {
          "base_uri": "https://localhost:8080/",
          "height": 305
        },
        "id": "a9cooWUdrdmT",
        "outputId": "4547f25a-341f-47c7-8452-76e3ee215449"
      },
      "execution_count": null,
      "outputs": [
        {
          "output_type": "execute_result",
          "data": {
            "text/plain": [
              "Text(0, 0.5, '$y$')"
            ]
          },
          "metadata": {},
          "execution_count": 78
        },
        {
          "output_type": "display_data",
          "data": {
            "image/png": "[encoded data removed]",
            "text/plain": [
              "<Figure size 432x288 with 1 Axes>"
            ]
          },
          "metadata": {
            "needs_background": "light"
          }
        }
      ]
    },
    {
      "cell_type": "markdown",
      "source": [
        "solution:"
      ],
      "metadata": {
        "id": "FTlO6YwUsuGA"
      }
    },
    {
      "cell_type": "code",
      "source": [
        "X_ones = np.ones((100, 1))\n",
        "X_combine = np.c_[X_ones, X]\n",
        "X_combine.shape"
      ],
      "metadata": {
        "colab": {
          "base_uri": "https://localhost:8080/"
        },
        "id": "X5ET9wWVs9qA",
        "outputId": "2bcaabe4-0fb8-497d-e3ff-11c016dbc07c"
      },
      "execution_count": null,
      "outputs": [
        {
          "output_type": "execute_result",
          "data": {
            "text/plain": [
              "(100, 2)"
            ]
          },
          "metadata": {},
          "execution_count": 81
        }
      ]
    },
    {
      "cell_type": "code",
      "source": [
        "X_new = np.array([[1], [3]])\n",
        "X_new_combine = np.c_[np.ones((2, 1)), X_new]\n",
        "X_new_combine, X_new.shape, X_new_combine.shape"
      ],
      "metadata": {
        "colab": {
          "base_uri": "https://localhost:8080/"
        },
        "id": "56raF31Ivepk",
        "outputId": "3a9e1263-98ac-4545-ce3f-e2ad16359de8"
      },
      "execution_count": null,
      "outputs": [
        {
          "output_type": "execute_result",
          "data": {
            "text/plain": [
              "(array([[1., 1.],\n",
              "        [1., 3.]]), (2, 1), (2, 2))"
            ]
          },
          "metadata": {},
          "execution_count": 82
        }
      ]
    },
    {
      "cell_type": "markdown",
      "source": [
        "1. normal equation"
      ],
      "metadata": {
        "id": "09yWTDZ5szoQ"
      }
    },
    {
      "cell_type": "markdown",
      "source": [
        "theta = (X^T.X)^-1 .X^T.y , pseudo inverse"
      ],
      "metadata": {
        "id": "_zg6upQEuVc_"
      }
    },
    {
      "cell_type": "code",
      "source": [
        "theta = np.dot(np.linalg.pinv(np.dot(X_combine.T, X_combine)), np.dot(X_combine.T, y))\n",
        "theta, theta.shape"
      ],
      "metadata": {
        "colab": {
          "base_uri": "https://localhost:8080/"
        },
        "id": "nofbWVyauXvs",
        "outputId": "922c5bcd-bc3d-48cc-b700-9fad93885aaa"
      },
      "execution_count": null,
      "outputs": [
        {
          "output_type": "execute_result",
          "data": {
            "text/plain": [
              "(array([[5.5046931 ],\n",
              "        [2.80629774]]), (2, 1))"
            ]
          },
          "metadata": {},
          "execution_count": 83
        }
      ]
    },
    {
      "cell_type": "code",
      "source": [
        "#predict X_new\n",
        "y_pred = np.dot(X_new_combine, theta)\n",
        "y_pred, y_pred.shape"
      ],
      "metadata": {
        "colab": {
          "base_uri": "https://localhost:8080/"
        },
        "id": "QPs6yYJKvZfH",
        "outputId": "0d27bb93-3304-4202-e4f4-8f4a2cd87283"
      },
      "execution_count": null,
      "outputs": [
        {
          "output_type": "execute_result",
          "data": {
            "text/plain": [
              "(array([[ 8.31099083],\n",
              "        [13.92358631]]), (2, 1))"
            ]
          },
          "metadata": {},
          "execution_count": 84
        }
      ]
    },
    {
      "cell_type": "code",
      "source": [
        "plt.plot(X, y, \"b.\")\n",
        "plt.plot(X_new, y_pred, \"r-\", label=\"predict\")\n",
        "plt.xlabel(\"$X$\", fontsize=18)\n",
        "plt.ylabel(\"$y$\", fontsize=18, rotation=0)\n",
        "plt.plot(np.array([[1], [3]]), 5 + 3*np.array([[1], [3]]),  \"b-\", label=\"y = 5X + 3\")\n",
        "plt.legend(loc=\"upper left\", fontsize=18)"
      ],
      "metadata": {
        "colab": {
          "base_uri": "https://localhost:8080/",
          "height": 305
        },
        "id": "aWv8u7obxVbH",
        "outputId": "f0b310b0-86e6-4a45-f6c1-ea1a2264fd16"
      },
      "execution_count": null,
      "outputs": [
        {
          "output_type": "execute_result",
          "data": {
            "text/plain": [
              "<matplotlib.legend.Legend at 0x7fab8593c050>"
            ]
          },
          "metadata": {},
          "execution_count": 92
        },
        {
          "output_type": "display_data",
          "data": {
            "image/png": "[encoded data removed]",
            "text/plain": [
              "<Figure size 432x288 with 1 Axes>"
            ]
          },
          "metadata": {
            "needs_background": "light"
          }
        }
      ]
    }
  ]
}